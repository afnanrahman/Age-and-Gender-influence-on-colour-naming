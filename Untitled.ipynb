{
 "cells": [
  {
   "cell_type": "code",
   "execution_count": 1,
   "metadata": {},
   "outputs": [],
   "source": [
    "import pandas as pd\n"
   ]
  },
  {
   "cell_type": "code",
   "execution_count": 23,
   "metadata": {},
   "outputs": [
    {
     "ename": "TypeError",
     "evalue": "unhashable type: 'dict'",
     "output_type": "error",
     "traceback": [
      "\u001b[1;31m---------------------------------------------------------------------------\u001b[0m",
      "\u001b[1;31mTypeError\u001b[0m                                 Traceback (most recent call last)",
      "\u001b[1;32m<ipython-input-23-420b793b9d1e>\u001b[0m in \u001b[0;36m<module>\u001b[1;34m\u001b[0m\n\u001b[1;32m----> 1\u001b[1;33m \u001b[0mdic\u001b[0m \u001b[1;33m=\u001b[0m \u001b[1;33m{\u001b[0m\u001b[1;36m1\u001b[0m\u001b[1;33m:\u001b[0m \u001b[1;33m{\u001b[0m\u001b[1;33m{\u001b[0m\u001b[1;36m2\u001b[0m\u001b[1;33m:\u001b[0m \u001b[1;36m90\u001b[0m\u001b[1;33m,\u001b[0m \u001b[1;36m3\u001b[0m\u001b[1;33m:\u001b[0m \u001b[1;34m\"a\"\u001b[0m\u001b[1;33m}\u001b[0m\u001b[1;33m,\u001b[0m\u001b[1;33m{\u001b[0m\u001b[1;36m3\u001b[0m\u001b[1;33m:\u001b[0m \u001b[1;36m99\u001b[0m\u001b[1;33m,\u001b[0m \u001b[1;36m4\u001b[0m\u001b[1;33m:\u001b[0m \u001b[1;34m\"b\"\u001b[0m\u001b[1;33m}\u001b[0m\u001b[1;33m}\u001b[0m\u001b[1;33m,\u001b[0m \u001b[1;36m7\u001b[0m\u001b[1;33m:\u001b[0m \u001b[1;34m\"P\"\u001b[0m\u001b[1;33m}\u001b[0m\u001b[1;33m\u001b[0m\u001b[1;33m\u001b[0m\u001b[0m\n\u001b[0m",
      "\u001b[1;31mTypeError\u001b[0m: unhashable type: 'dict'"
     ]
    }
   ],
   "source": [
    "dic = {1: {{2: 90, 3: \"a\"},{3: 99, 4: \"b\"}}, 7: \"P\"}"
   ]
  },
  {
   "cell_type": "code",
   "execution_count": 15,
   "metadata": {},
   "outputs": [
    {
     "ename": "TypeError",
     "evalue": "unhashable type: 'dict'",
     "output_type": "error",
     "traceback": [
      "\u001b[1;31m---------------------------------------------------------------------------\u001b[0m",
      "\u001b[1;31mTypeError\u001b[0m                                 Traceback (most recent call last)",
      "\u001b[1;32m<ipython-input-15-72e42489dcb0>\u001b[0m in \u001b[0;36m<module>\u001b[1;34m\u001b[0m\n\u001b[0;32m      1\u001b[0m \u001b[1;31m# List of nested dictionary initialization\u001b[0m\u001b[1;33m\u001b[0m\u001b[1;33m\u001b[0m\u001b[1;33m\u001b[0m\u001b[0m\n\u001b[1;32m----> 2\u001b[1;33m lst = {\n\u001b[0m\u001b[0;32m      3\u001b[0m         {\n\u001b[0;32m      4\u001b[0m         \"Student\": [{\"Exam\": 90, \"Grade\": \"a\"},\n\u001b[0;32m      5\u001b[0m                     \u001b[1;33m{\u001b[0m\u001b[1;34m\"Exam\"\u001b[0m\u001b[1;33m:\u001b[0m \u001b[1;36m99\u001b[0m\u001b[1;33m,\u001b[0m \u001b[1;34m\"Grade\"\u001b[0m\u001b[1;33m:\u001b[0m \u001b[1;34m\"b\"\u001b[0m\u001b[1;33m}\u001b[0m\u001b[1;33m,\u001b[0m\u001b[1;33m\u001b[0m\u001b[1;33m\u001b[0m\u001b[0m\n",
      "\u001b[1;31mTypeError\u001b[0m: unhashable type: 'dict'"
     ]
    }
   ],
   "source": [
    "# List of nested dictionary initialization\n",
    "lst = {{\"Student\": {\"Exam\": 90, \"Grade\": \"a\"},\n",
    "                    {\"Exam\": 99, \"Grade\": \"b\"},\n",
    "                    {\"Exam\": 97, \"Grade\": \"c\"},\n",
    "                   ],\n",
    "        \"Name\": \"Paras Jain\"},\n",
    "        {\"Student\": [{\"Exam\": 89, \"Grade\": \"a\"},\n",
    "                    {\"Exam\": 80, \"Grade\": \"b\"}\n",
    "                   ],\n",
    "        \"Name\": \"Chunky Pandey\"\n",
    "        }\n",
    "        }"
   ]
  },
  {
   "cell_type": "code",
   "execution_count": 13,
   "metadata": {},
   "outputs": [
    {
     "ename": "AttributeError",
     "evalue": "'list' object has no attribute 'items'",
     "output_type": "error",
     "traceback": [
      "\u001b[1;31m---------------------------------------------------------------------------\u001b[0m",
      "\u001b[1;31mAttributeError\u001b[0m                            Traceback (most recent call last)",
      "\u001b[1;32m<ipython-input-13-52b890e8b521>\u001b[0m in \u001b[0;36m<module>\u001b[1;34m\u001b[0m\n\u001b[1;32m----> 1\u001b[1;33m \u001b[0mlist\u001b[0m\u001b[1;33m.\u001b[0m\u001b[0mitems\u001b[0m\u001b[1;33m(\u001b[0m\u001b[1;33m)\u001b[0m\u001b[1;33m\u001b[0m\u001b[1;33m\u001b[0m\u001b[0m\n\u001b[0m",
      "\u001b[1;31mAttributeError\u001b[0m: 'list' object has no attribute 'items'"
     ]
    }
   ],
   "source": [
    "list.items()"
   ]
  },
  {
   "cell_type": "code",
   "execution_count": 10,
   "metadata": {},
   "outputs": [
    {
     "name": "stdout",
     "output_type": "stream",
     "text": [
      "[{'Exam': 90, 'Grade': 'a', 'Name': 'Paras Jain'}, {'Exam': 99, 'Grade': 'b', 'Name': 'Paras Jain'}, {'Exam': 97, 'Grade': 'c', 'Name': 'Paras Jain'}]\n",
      "Paras Jain\n",
      "Paras Jain\n",
      "Paras Jain\n",
      "[{'Exam': 89, 'Grade': 'a', 'Name': 'Chunky Pandey'}, {'Exam': 80, 'Grade': 'b', 'Name': 'Chunky Pandey'}]\n",
      "Chunky Pandey\n",
      "Chunky Pandey\n",
      "   Exam Grade           Name\n",
      "0    90     a     Paras Jain\n",
      "1    99     b     Paras Jain\n",
      "2    97     c     Paras Jain\n",
      "3    89     a  Chunky Pandey\n",
      "4    80     b  Chunky Pandey\n"
     ]
    }
   ],
   "source": [
    "# rows list initialization\n",
    "rows = []\n",
    "  \n",
    "# appending rows\n",
    "for data in list:\n",
    "    data_row = data['Student']\n",
    "    print(data_row)\n",
    "    name = data['Name']\n",
    "    #print(time)\n",
    "\n",
    "      \n",
    "    for row in data_row:\n",
    "        #print(row)\n",
    "        row['Name']= name\n",
    "        print(row['Name'])\n",
    "\n",
    "        rows.append(row)\n",
    "  \n",
    "# using data frame\n",
    "df = pd.DataFrame(rows)\n",
    "print(df)"
   ]
  },
  {
   "cell_type": "code",
   "execution_count": null,
   "metadata": {},
   "outputs": [],
   "source": []
  }
 ],
 "metadata": {
  "kernelspec": {
   "display_name": "Python 3",
   "language": "python",
   "name": "python3"
  },
  "language_info": {
   "codemirror_mode": {
    "name": "ipython",
    "version": 3
   },
   "file_extension": ".py",
   "mimetype": "text/x-python",
   "name": "python",
   "nbconvert_exporter": "python",
   "pygments_lexer": "ipython3",
   "version": "3.8.8"
  }
 },
 "nbformat": 4,
 "nbformat_minor": 4
}
