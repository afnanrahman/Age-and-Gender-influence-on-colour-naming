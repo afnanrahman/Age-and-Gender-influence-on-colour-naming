{
 "cells": [
  {
   "cell_type": "markdown",
   "metadata": {
    "collapsed": true
   },
   "source": [
    "# Demos for analyzing World Color Survey (WCS)\n",
    "\n",
    "COG 260: Data, Computation, and The Mind (Yang Xu)\n",
    "\n",
    "Data source: http://www1.icsi.berkeley.edu/wcs/data.html\n",
    "\n",
    "______________________________________________\n",
    "\n",
    "Import helper function file for WCS data analysis."
   ]
  },
  {
   "cell_type": "code",
   "execution_count": 1,
   "metadata": {},
   "outputs": [],
   "source": [
    "from wcs_helper_functions import *"
   ]
  },
  {
   "cell_type": "markdown",
   "metadata": {},
   "source": [
    "Import relevant Python libraries."
   ]
  },
  {
   "cell_type": "code",
   "execution_count": 2,
   "metadata": {},
   "outputs": [],
   "source": [
    "import numpy as np\n",
    "import pandas as pd\n",
    "from scipy import stats\n",
    "from random import random\n",
    "%matplotlib inline"
   ]
  },
  {
   "cell_type": "markdown",
   "metadata": {},
   "source": [
    "## Demo 3: Import color naming data\n",
    "    \n",
    "> Each of the 330 color chips was named by speakers of 110 different languages.\n",
    "\n",
    "______________________________________________\n",
    "\n",
    "Load naming data. \n",
    "\n",
    "`namingData` is a hierarchical dictionary organized as follows:\n",
    "\n",
    "**language _(1 - 110)_ &rarr; speaker _(1 - *range varies per language*)_ &rarr; chip index _(1 - 330)_ &rarr; color term**"
   ]
  },
  {
   "cell_type": "code",
   "execution_count": 121,
   "metadata": {},
   "outputs": [],
   "source": [
    "namingData = readNamingData('term.txt')"
   ]
  },
  {
   "cell_type": "markdown",
   "metadata": {},
   "source": [
    "For example, to obtain naming data from language 1 and speaker 1 for all 330 color chips:"
   ]
  },
  {
   "cell_type": "markdown",
   "metadata": {},
   "source": [
    "## Demo 5: Import speaker demographic information\n",
    "\n",
    "> Most speakers' age _(integer)_ and gender _(M/F)_ information was recorded.\n",
    "\n",
    "______________________________________________\n",
    "\n",
    "Load speaker information.\n",
    "\n",
    "`speakerInfo` is a hierarchical dictionary organized as follows:\n",
    "\n",
    "**language &rarr; speaker &rarr; (age, gender)**"
   ]
  },
  {
   "cell_type": "code",
   "execution_count": 6,
   "metadata": {},
   "outputs": [],
   "source": [
    "speakerInfo = readSpeakerData('spkr-lsas.txt')"
   ]
  },
  {
   "cell_type": "markdown",
   "metadata": {},
   "source": [
    "### Data Manipulation"
   ]
  },
  {
   "cell_type": "code",
   "execution_count": 26,
   "metadata": {},
   "outputs": [],
   "source": [
    "speaker_num_naming_data = []\n",
    "\n",
    "for val in namingData: \n",
    "    speaker_num_naming_data.append(len(list(namingData[val].keys())))"
   ]
  },
  {
   "cell_type": "code",
   "execution_count": 31,
   "metadata": {},
   "outputs": [
    {
     "data": {
      "text/plain": [
       "110"
      ]
     },
     "execution_count": 31,
     "metadata": {},
     "output_type": "execute_result"
    }
   ],
   "source": [
    "len(speaker_num_naming_data)"
   ]
  },
  {
   "cell_type": "code",
   "execution_count": 58,
   "metadata": {},
   "outputs": [],
   "source": [
    "speaker_num_gender_data = []\n",
    "\n",
    "for val in speakerInfo:\n",
    "    speaker_num_gender_data.append(len(list(speakerInfo[val].keys())))"
   ]
  },
  {
   "cell_type": "code",
   "execution_count": 60,
   "metadata": {},
   "outputs": [
    {
     "data": {
      "text/plain": [
       "110"
      ]
     },
     "execution_count": 60,
     "metadata": {},
     "output_type": "execute_result"
    }
   ],
   "source": [
    "len(speaker_num_gender_data)"
   ]
  },
  {
   "cell_type": "code",
   "execution_count": 62,
   "metadata": {},
   "outputs": [
    {
     "name": "stdout",
     "output_type": "stream",
     "text": [
      "24 25\n",
      "24 25\n",
      "6 8\n",
      "26 25\n",
      "25 24\n"
     ]
    },
    {
     "data": {
      "text/plain": [
       "[None, None, None, None, None]"
      ]
     },
     "execution_count": 62,
     "metadata": {},
     "output_type": "execute_result"
    }
   ],
   "source": [
    "[print(n,g) for n,g in zip(speaker_num_naming_data,speaker_num_gender_data) if n !=g]"
   ]
  },
  {
   "cell_type": "code",
   "execution_count": 63,
   "metadata": {},
   "outputs": [
    {
     "data": {
      "text/plain": [
       "[61, 87, 92, 94, 96]"
      ]
     },
     "execution_count": 63,
     "metadata": {},
     "output_type": "execute_result"
    }
   ],
   "source": [
    "indices = [n for n in range(len(speaker_num_naming_data)) if speaker_num_naming_data[n] !=speaker[n] ]\n",
    "indices"
   ]
  },
  {
   "cell_type": "markdown",
   "metadata": {},
   "source": [
    "### Data Cleaning"
   ]
  },
  {
   "cell_type": "code",
   "execution_count": 113,
   "metadata": {},
   "outputs": [],
   "source": [
    "cleaned_speaker_num_naming_data = []\n",
    "cleaned_naming_data = []\n",
    "\n",
    "for val in namingData: \n",
    "    if val not in indices: \n",
    "        cleaned_speaker_num_naming_data.append(len(list(namingData[val].keys())))"
   ]
  },
  {
   "cell_type": "code",
   "execution_count": 122,
   "metadata": {},
   "outputs": [
    {
     "data": {
      "text/plain": [
       "110"
      ]
     },
     "execution_count": 122,
     "metadata": {},
     "output_type": "execute_result"
    }
   ],
   "source": [
    "len(cleaned_speaker_num_naming_data)\n",
    "len(namingData)"
   ]
  },
  {
   "cell_type": "code",
   "execution_count": 138,
   "metadata": {},
   "outputs": [],
   "source": [
    "myDict1 = {key:val for key, val in namingData.items() if key != 61}\n",
    "myDict2 = {key:val for key, val in myDict1.items() if key != 87}\n",
    "myDict3 = {key:val for key, val in myDict2.items() if key != 92}\n",
    "myDict4 = {key:val for key, val in myDict3.items() if key != 94}\n",
    "cleaned_naming_data = {key:val for key, val in myDict4.items() if key != 96}"
   ]
  },
  {
   "cell_type": "code",
   "execution_count": 139,
   "metadata": {},
   "outputs": [
    {
     "data": {
      "text/plain": [
       "105"
      ]
     },
     "execution_count": 139,
     "metadata": {},
     "output_type": "execute_result"
    }
   ],
   "source": [
    "len(cleaned_naming_data)"
   ]
  },
  {
   "cell_type": "code",
   "execution_count": 140,
   "metadata": {},
   "outputs": [],
   "source": [
    "unique_colour_list = [] #contains the number of unique colours named by each speaker\n",
    "\n",
    "for val in cleaned_naming_data: \n",
    "    for s in cleaned_naming_data[val]:\n",
    "        unique_colour_list.append(len(list(set(list(cleaned_naming_data[val][s].values())))))"
   ]
  },
  {
   "cell_type": "code",
   "execution_count": 141,
   "metadata": {},
   "outputs": [
    {
     "data": {
      "text/plain": [
       "2517"
      ]
     },
     "execution_count": 141,
     "metadata": {},
     "output_type": "execute_result"
    }
   ],
   "source": [
    "len(unique_colour_list)"
   ]
  },
  {
   "cell_type": "code",
   "execution_count": 142,
   "metadata": {},
   "outputs": [],
   "source": [
    "Dict1 = {key:val for key, val in speakerInfo.items() if key != 61}\n",
    "Dict2 = {key:val for key, val in Dict1.items() if key != 87}\n",
    "Dict3 = {key:val for key, val in Dict2.items() if key != 92}\n",
    "Dict4 = {key:val for key, val in Dict3.items() if key != 94}\n",
    "cleaned_gender_data = {key:val for key, val in Dict4.items() if key != 96}"
   ]
  },
  {
   "cell_type": "code",
   "execution_count": 143,
   "metadata": {},
   "outputs": [
    {
     "data": {
      "text/plain": [
       "105"
      ]
     },
     "execution_count": 143,
     "metadata": {},
     "output_type": "execute_result"
    }
   ],
   "source": [
    "len(cleaned_gender_data)"
   ]
  },
  {
   "cell_type": "code",
   "execution_count": 144,
   "metadata": {},
   "outputs": [],
   "source": [
    "gender_age = []\n",
    "gender = []\n",
    "age = []\n",
    "\n",
    "\n",
    "speaker = [] # list of total number of speakers in each language \n",
    "\n",
    "for val in cleaned_gender_data:\n",
    "    #print(val)\n",
    "    speaker.append(len(list(cleaned_gender_data[val].keys())))\n",
    "    for s in cleaned_gender_data[val]:\n",
    "        gender_age.append((cleaned_gender_data[val][s][0][1],cleaned_gender_data[val][s][0][0]))\n",
    "        gender.append(cleaned_gender_data[val][s][0][1])\n",
    "        age.append(cleaned_gender_data[val][s][0][0])\n",
    "        "
   ]
  },
  {
   "cell_type": "code",
   "execution_count": 56,
   "metadata": {},
   "outputs": [
    {
     "data": {
      "text/plain": [
       "[24, 24, 6, 26, 25]"
      ]
     },
     "execution_count": 56,
     "metadata": {},
     "output_type": "execute_result"
    }
   ],
   "source": [
    "[print(n,g) for n,g in zip(speaker_num_naming_data,speaker) if n !=g]"
   ]
  },
  {
   "cell_type": "code",
   "execution_count": 57,
   "metadata": {},
   "outputs": [
    {
     "data": {
      "text/plain": [
       "[61, 87, 92, 94, 96]"
      ]
     },
     "execution_count": 57,
     "metadata": {},
     "output_type": "execute_result"
    }
   ],
   "source": [
    "[n for n in range(len(speaker_num_naming_data)) if speaker_num_naming_data[n] !=speaker[n] ]"
   ]
  },
  {
   "cell_type": "code",
   "execution_count": 145,
   "metadata": {},
   "outputs": [],
   "source": [
    "s = np.arange(1,111)\n",
    "s= [str(i) for i in s] \n",
    "speaker_col = []\n",
    "#print(s)\n",
    "\n",
    "nested = [list(v*(s[i],)) for v, i in zip(speaker, range(len(s)))]\n",
    "#nested"
   ]
  },
  {
   "cell_type": "code",
   "execution_count": 146,
   "metadata": {},
   "outputs": [],
   "source": [
    "language = [ item for elem in nested for item in elem] "
   ]
  },
  {
   "cell_type": "code",
   "execution_count": 147,
   "metadata": {},
   "outputs": [
    {
     "data": {
      "text/plain": [
       "2519"
      ]
     },
     "execution_count": 147,
     "metadata": {},
     "output_type": "execute_result"
    }
   ],
   "source": [
    "len(language)"
   ]
  },
  {
   "cell_type": "code",
   "execution_count": 148,
   "metadata": {},
   "outputs": [],
   "source": [
    "full_df = pd.DataFrame(list(zip(language, gender, age, gender_age, unique_colour_list)), columns = ['language', 'gender', 'age', 'gender_age','unique' ])"
   ]
  },
  {
   "cell_type": "code",
   "execution_count": 149,
   "metadata": {},
   "outputs": [
    {
     "data": {
      "text/plain": [
       "count     2512\n",
       "unique       2\n",
       "top          M\n",
       "freq      1294\n",
       "Name: gender, dtype: object"
      ]
     },
     "execution_count": 149,
     "metadata": {},
     "output_type": "execute_result"
    }
   ],
   "source": [
    "clean = full_df[full_df.gender != '*']\n",
    "clean = clean[clean.gender != 'X']\n",
    "clean.gender[clean.gender == 'f'] = \"F\"\n",
    "    \n",
    "clean['gender'].describe()"
   ]
  },
  {
   "cell_type": "code",
   "execution_count": 153,
   "metadata": {},
   "outputs": [
    {
     "data": {
      "text/html": [
       "<div>\n",
       "<style scoped>\n",
       "    .dataframe tbody tr th:only-of-type {\n",
       "        vertical-align: middle;\n",
       "    }\n",
       "\n",
       "    .dataframe tbody tr th {\n",
       "        vertical-align: top;\n",
       "    }\n",
       "\n",
       "    .dataframe thead th {\n",
       "        text-align: right;\n",
       "    }\n",
       "</style>\n",
       "<table border=\"1\" class=\"dataframe\">\n",
       "  <thead>\n",
       "    <tr style=\"text-align: right;\">\n",
       "      <th></th>\n",
       "      <th>language</th>\n",
       "      <th>gender</th>\n",
       "      <th>age</th>\n",
       "      <th>gender_age</th>\n",
       "      <th>unique</th>\n",
       "    </tr>\n",
       "  </thead>\n",
       "  <tbody>\n",
       "    <tr>\n",
       "      <th>0</th>\n",
       "      <td>1</td>\n",
       "      <td>M</td>\n",
       "      <td>90</td>\n",
       "      <td>(M, 90)</td>\n",
       "      <td>6</td>\n",
       "    </tr>\n",
       "    <tr>\n",
       "      <th>1</th>\n",
       "      <td>1</td>\n",
       "      <td>M</td>\n",
       "      <td>26</td>\n",
       "      <td>(M, 26)</td>\n",
       "      <td>7</td>\n",
       "    </tr>\n",
       "    <tr>\n",
       "      <th>2</th>\n",
       "      <td>1</td>\n",
       "      <td>M</td>\n",
       "      <td>38</td>\n",
       "      <td>(M, 38)</td>\n",
       "      <td>6</td>\n",
       "    </tr>\n",
       "    <tr>\n",
       "      <th>3</th>\n",
       "      <td>1</td>\n",
       "      <td>M</td>\n",
       "      <td>35</td>\n",
       "      <td>(M, 35)</td>\n",
       "      <td>6</td>\n",
       "    </tr>\n",
       "    <tr>\n",
       "      <th>4</th>\n",
       "      <td>1</td>\n",
       "      <td>M</td>\n",
       "      <td>80</td>\n",
       "      <td>(M, 80)</td>\n",
       "      <td>7</td>\n",
       "    </tr>\n",
       "  </tbody>\n",
       "</table>\n",
       "</div>"
      ],
      "text/plain": [
       "  language gender age gender_age  unique\n",
       "0        1      M  90    (M, 90)       6\n",
       "1        1      M  26    (M, 26)       7\n",
       "2        1      M  38    (M, 38)       6\n",
       "3        1      M  35    (M, 35)       6\n",
       "4        1      M  80    (M, 80)       7"
      ]
     },
     "execution_count": 153,
     "metadata": {},
     "output_type": "execute_result"
    }
   ],
   "source": [
    "clean.head(5)"
   ]
  },
  {
   "cell_type": "code",
   "execution_count": 14,
   "metadata": {},
   "outputs": [
    {
     "data": {
      "text/plain": [
       "count    2611.000000\n",
       "mean        8.410954\n",
       "std         3.588725\n",
       "min         2.000000\n",
       "25%         6.000000\n",
       "50%         8.000000\n",
       "75%        10.000000\n",
       "max        40.000000\n",
       "Name: unique, dtype: float64"
      ]
     },
     "execution_count": 14,
     "metadata": {},
     "output_type": "execute_result"
    }
   ],
   "source": [
    "clean['unique'].describe()"
   ]
  },
  {
   "cell_type": "markdown",
   "metadata": {},
   "source": [
    "### Data Visualization"
   ]
  },
  {
   "cell_type": "code",
   "execution_count": 15,
   "metadata": {},
   "outputs": [],
   "source": [
    "# find how the number of each gender varies across the languages  \n",
    "#create subplot for each language and identify the trends with linear regression lines across 110 languages"
   ]
  },
  {
   "cell_type": "markdown",
   "metadata": {},
   "source": [
    "#### Regression Analysis "
   ]
  },
  {
   "cell_type": "code",
   "execution_count": 16,
   "metadata": {},
   "outputs": [
    {
     "data": {
      "text/plain": [
       "'\\nfig = plt.figure(figsize=(30, 20), dpi= 80, facecolor=\\'w\\', edgecolor=\\'k\\')\\n\\nimport matplotlib.pyplot as plt\\nimport seaborn as sns\\n\\n#sns.scatterplot(x=\"age\", y=\"unique\", data=clean)\\n\\n#plt.scatter(clean[\\'age\\'], clean[\\'unique\\'])\\n'"
      ]
     },
     "execution_count": 16,
     "metadata": {},
     "output_type": "execute_result"
    }
   ],
   "source": [
    "'''\n",
    "fig = plt.figure(figsize=(30, 20), dpi= 80, facecolor='w', edgecolor='k')\n",
    "\n",
    "import matplotlib.pyplot as plt\n",
    "import seaborn as sns\n",
    "\n",
    "#sns.scatterplot(x=\"age\", y=\"unique\", data=clean)\n",
    "\n",
    "#plt.scatter(clean['age'], clean['unique'])\n",
    "'''"
   ]
  },
  {
   "cell_type": "code",
   "execution_count": 17,
   "metadata": {},
   "outputs": [
    {
     "data": {
      "text/plain": [
       "'\\nfig = plt.figure(figsize=(30, 20), dpi= 80, facecolor=\\'w\\', edgecolor=\\'k\\')\\n\\n# Loop over the subjects\\nfor s in range(1,111):    \\n    \\n    # Task 1: Line fitting [3pts]\\n    \\n    #age vs unique across the langauges , gender as a the filler \\n    x = clean[\\'age\\']\\n    y = clean[\"unique\"]\\n\\n    m, b = np.polyfit(x, y, 1) # m = slope, b=intercept.\\n\\n    \\n    #-------Task 1.2-------\\n    # Record the slope for this subject in place-holder variable \"slopes\"\\n    \\n    slopes = np.append(slopes,m) \\n \\n\\n    # Create a subplot for this subject\\n    plt.subplot(6,9,s+1);\\n    plt.title(\\'s\\'+str(s+1));\\n\\n\\n    # Task 2: Within-subject visualization [2pts]\\n\\n    #-------Task 2.1-------\\n    # Scatter plot reaction times (y-axis) against angles (x-axis)\\n    plt.plot(x, y, \\'ro\\');\\n\\n    #-------Task 2.2-------\\n    # Juxtapose the fitted line onto this scatter plot\\n    plt.plot(x, m*x + b) \\n\\n\\n    # Specify title of the plot by subject index\\n    plt.title(\\'s\\'+str(s+1));\\n'"
      ]
     },
     "execution_count": 17,
     "metadata": {},
     "output_type": "execute_result"
    }
   ],
   "source": [
    "'''\n",
    "fig = plt.figure(figsize=(30, 20), dpi= 80, facecolor='w', edgecolor='k')\n",
    "\n",
    "# Loop over the subjects\n",
    "for s in range(1,111):    \n",
    "    \n",
    "    # Task 1: Line fitting [3pts]\n",
    "    \n",
    "    #age vs unique across the langauges , gender as a the filler \n",
    "    x = clean['age']\n",
    "    y = clean[\"unique\"]\n",
    "\n",
    "    m, b = np.polyfit(x, y, 1) # m = slope, b=intercept.\n",
    "\n",
    "    \n",
    "    #-------Task 1.2-------\n",
    "    # Record the slope for this subject in place-holder variable \"slopes\"\n",
    "    \n",
    "    slopes = np.append(slopes,m) \n",
    " \n",
    "\n",
    "    # Create a subplot for this subject\n",
    "    plt.subplot(6,9,s+1);\n",
    "    plt.title('s'+str(s+1));\n",
    "\n",
    "\n",
    "    # Task 2: Within-subject visualization [2pts]\n",
    "\n",
    "    #-------Task 2.1-------\n",
    "    # Scatter plot reaction times (y-axis) against angles (x-axis)\n",
    "    plt.plot(x, y, 'ro');\n",
    "\n",
    "    #-------Task 2.2-------\n",
    "    # Juxtapose the fitted line onto this scatter plot\n",
    "    plt.plot(x, m*x + b) \n",
    "\n",
    "\n",
    "    # Specify title of the plot by subject index\n",
    "    plt.title('s'+str(s+1));\n",
    "'''"
   ]
  },
  {
   "cell_type": "code",
   "execution_count": 18,
   "metadata": {},
   "outputs": [],
   "source": [
    "#three scatter subplots to \n",
    "#visualize the gender distribution across languages, \n",
    "#gender vs number of unique colour names, \n",
    "#age vs number of unique colour names \n"
   ]
  },
  {
   "cell_type": "code",
   "execution_count": 19,
   "metadata": {},
   "outputs": [],
   "source": [
    "### Test Stati"
   ]
  }
 ],
 "metadata": {
  "anaconda-cloud": {},
  "kernelspec": {
   "display_name": "Python 3",
   "language": "python",
   "name": "python3"
  },
  "language_info": {
   "codemirror_mode": {
    "name": "ipython",
    "version": 3
   },
   "file_extension": ".py",
   "mimetype": "text/x-python",
   "name": "python",
   "nbconvert_exporter": "python",
   "pygments_lexer": "ipython3",
   "version": "3.8.3"
  }
 },
 "nbformat": 4,
 "nbformat_minor": 1
}
