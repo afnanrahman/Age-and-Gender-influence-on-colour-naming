{
 "cells": [
  {
   "cell_type": "markdown",
   "metadata": {
    "collapsed": true
   },
   "source": [
    "# Demos for analyzing World Color Survey (WCS)\n",
    "\n",
    "COG 260: Data, Computation, and The Mind (Yang Xu)\n",
    "\n",
    "Data source: http://www1.icsi.berkeley.edu/wcs/data.html\n",
    "\n",
    "______________________________________________\n",
    "\n",
    "Import helper function file for WCS data analysis."
   ]
  },
  {
   "cell_type": "code",
   "execution_count": null,
   "metadata": {},
   "outputs": [],
   "source": [
    "from wcs_helper_functions import *"
   ]
  },
  {
   "cell_type": "markdown",
   "metadata": {},
   "source": [
    "Import relevant Python libraries."
   ]
  },
  {
   "cell_type": "code",
   "execution_count": null,
   "metadata": {},
   "outputs": [],
   "source": [
    "import numpy as np\n",
    "import pandas as pd\n",
    "from scipy import stats\n",
    "from random import random\n",
    "%matplotlib inline"
   ]
  },
  {
   "cell_type": "markdown",
   "metadata": {},
   "source": [
    "## Demo 3: Import color naming data\n",
    "    \n",
    "> Each of the 330 color chips was named by speakers of 110 different languages.\n",
    "\n",
    "______________________________________________\n",
    "\n",
    "Load naming data. \n",
    "\n",
    "`namingData` is a hierarchical dictionary organized as follows:\n",
    "\n",
    "**language _(1 - 110)_ &rarr; speaker _(1 - *range varies per language*)_ &rarr; chip index _(1 - 330)_ &rarr; color term**"
   ]
  },
  {
   "cell_type": "code",
   "execution_count": null,
   "metadata": {},
   "outputs": [],
   "source": [
    "namingData = readNamingData('term.txt')"
   ]
  },
  {
   "cell_type": "markdown",
   "metadata": {},
   "source": [
    "For example, to obtain naming data from language 1 and speaker 1 for all 330 color chips:"
   ]
  },
  {
   "cell_type": "code",
   "execution_count": null,
   "metadata": {},
   "outputs": [],
   "source": [
    "unique_colour_list = [] #contains \n",
    "#b = {}\n",
    "\n",
    "for val in namingData: \n",
    "    #print(val)\n",
    "    for s in namingData[val]:\n",
    "        unique_colour_list.append(len(list(set(list(namingData[val][s].values())))))"
   ]
  },
  {
   "cell_type": "code",
   "execution_count": null,
   "metadata": {},
   "outputs": [],
   "source": [
    "#unique_colour_list"
   ]
  },
  {
   "cell_type": "markdown",
   "metadata": {},
   "source": [
    "## Demo 5: Import speaker demographic information\n",
    "\n",
    "> Most speakers' age _(integer)_ and gender _(M/F)_ information was recorded.\n",
    "\n",
    "______________________________________________\n",
    "\n",
    "Load speaker information.\n",
    "\n",
    "`speakerInfo` is a hierarchical dictionary organized as follows:\n",
    "\n",
    "**language &rarr; speaker &rarr; (age, gender)**"
   ]
  },
  {
   "cell_type": "code",
   "execution_count": null,
   "metadata": {},
   "outputs": [],
   "source": [
    "speakerInfo = readSpeakerData('spkr-lsas.txt')"
   ]
  },
  {
   "cell_type": "code",
   "execution_count": null,
   "metadata": {},
   "outputs": [],
   "source": [
    "gender_age = []\n",
    "gender = []\n",
    "age = []\n",
    "\n",
    "keys = list(namingData.keys())\n",
    "\n",
    "speaker = [] # list of total number of speakers in each language \n",
    "\n",
    "for val in speakerInfo:\n",
    "    #print(val)\n",
    "    speaker.append(len(list(speakerInfo[val].keys())))\n",
    "    for s in speakerInfo[val]:\n",
    "        gender_age.append((speakerInfo[val][s][0][1],speakerInfo[val][s][0][0]))\n",
    "        gender.append(speakerInfo[val][s][0][1])\n",
    "        age.append(speakerInfo[val][s][0][0])\n",
    "        "
   ]
  },
  {
   "cell_type": "code",
   "execution_count": null,
   "metadata": {},
   "outputs": [],
   "source": [
    "s = np.arange(1,111)\n",
    "s= [str(i) for i in s] \n",
    "speaker_col = []\n",
    "#print(s)\n",
    "\n",
    "nested = [list(v*(s[i],)) for v, i in zip(speaker, range(len(s)))]\n",
    "#nested\n"
   ]
  },
  {
   "cell_type": "code",
   "execution_count": null,
   "metadata": {},
   "outputs": [],
   "source": [
    "language = [ item for elem in nested for item in elem]"
   ]
  },
  {
   "cell_type": "code",
   "execution_count": null,
   "metadata": {},
   "outputs": [],
   "source": [
    "full_df = pd.DataFrame(list(zip(language, gender, age, gender_age, unique_colour_list)), columns = ['language', 'gender', 'age', 'gender_age','unique' ])"
   ]
  },
  {
   "cell_type": "code",
   "execution_count": null,
   "metadata": {},
   "outputs": [],
   "source": [
    "clean = full_df[full_df.gender != '*']\n",
    "clean = clean[clean.gender != 'X']\n",
    "clean.gender[clean.gender == 'f'] = \"F\"\n",
    "    \n",
    "\n",
    "clean['gender'].describe()"
   ]
  },
  {
   "cell_type": "code",
   "execution_count": null,
   "metadata": {},
   "outputs": [],
   "source": [
    "clean.head(10)"
   ]
  },
  {
   "cell_type": "code",
   "execution_count": null,
   "metadata": {},
   "outputs": [],
   "source": [
    "clean['unique'].describe()"
   ]
  },
  {
   "cell_type": "code",
   "execution_count": null,
   "metadata": {},
   "outputs": [],
   "source": [
    "#create subplot for each language and identify the trends with linear regression lines across 110 languages. \n",
    "# find how the number of each gender varies across the languages  "
   ]
  },
  {
   "cell_type": "code",
   "execution_count": null,
   "metadata": {},
   "outputs": [],
   "source": [
    "'''\n",
    "fig = plt.figure(figsize=(30, 20), dpi= 80, facecolor='w', edgecolor='k')\n",
    "\n",
    "import matplotlib.pyplot as plt\n",
    "import seaborn as sns\n",
    "\n",
    "#sns.scatterplot(x=\"age\", y=\"unique\", data=clean)\n",
    "\n",
    "#plt.scatter(clean['age'], clean['unique'])\n",
    "'''"
   ]
  },
  {
   "cell_type": "code",
   "execution_count": null,
   "metadata": {},
   "outputs": [],
   "source": [
    "'''\n",
    "fig = plt.figure(figsize=(30, 20), dpi= 80, facecolor='w', edgecolor='k')\n",
    "\n",
    "# Loop over the subjects\n",
    "for s in range(1,111):    \n",
    "    \n",
    "    # Task 1: Line fitting [3pts]\n",
    "    \n",
    "    #age vs unique across the langauges , gender as a the filler \n",
    "    x = clean['age']\n",
    "    y = clean[\"unique\"]\n",
    "\n",
    "    m, b = np.polyfit(x, y, 1) # m = slope, b=intercept.\n",
    "\n",
    "    \n",
    "    #-------Task 1.2-------\n",
    "    # Record the slope for this subject in place-holder variable \"slopes\"\n",
    "    \n",
    "    slopes = np.append(slopes,m) \n",
    " \n",
    "\n",
    "    # Create a subplot for this subject\n",
    "    plt.subplot(6,9,s+1);\n",
    "    plt.title('s'+str(s+1));\n",
    "\n",
    "\n",
    "    # Task 2: Within-subject visualization [2pts]\n",
    "\n",
    "    #-------Task 2.1-------\n",
    "    # Scatter plot reaction times (y-axis) against angles (x-axis)\n",
    "    plt.plot(x, y, 'ro');\n",
    "\n",
    "    #-------Task 2.2-------\n",
    "    # Juxtapose the fitted line onto this scatter plot\n",
    "    plt.plot(x, m*x + b) \n",
    "\n",
    "\n",
    "    # Specify title of the plot by subject index\n",
    "    plt.title('s'+str(s+1));\n",
    "'''"
   ]
  },
  {
   "cell_type": "code",
   "execution_count": null,
   "metadata": {},
   "outputs": [],
   "source": [
    "#three scatter subplots to \n",
    "#visualize the gender distribution across languages, \n",
    "#gender vs number of unique colour names, \n",
    "#age vs number of unique colour names \n"
   ]
  }
 ],
 "metadata": {
  "anaconda-cloud": {},
  "kernelspec": {
   "display_name": "Python 3",
   "language": "python",
   "name": "python3"
  },
  "language_info": {
   "codemirror_mode": {
    "name": "ipython",
    "version": 3
   },
   "file_extension": ".py",
   "mimetype": "text/x-python",
   "name": "python",
   "nbconvert_exporter": "python",
   "pygments_lexer": "ipython3",
   "version": "3.8.3"
  }
 },
 "nbformat": 4,
 "nbformat_minor": 1
}
